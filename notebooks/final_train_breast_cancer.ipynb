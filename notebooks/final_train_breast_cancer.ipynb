{
 "cells": [
  {
   "cell_type": "code",
   "execution_count": 1,
   "id": "528c0679",
   "metadata": {},
   "outputs": [],
   "source": [
    "import sys\n",
    "import os\n",
    "sys.path.append(os.path.abspath(os.path.join('..')))"
   ]
  },
  {
   "cell_type": "code",
   "execution_count": 2,
   "id": "34c57a84",
   "metadata": {},
   "outputs": [],
   "source": [
    "import pandas as pd\n",
    "import tensorflow as tf\n",
    "import sklearn\n",
    "import scikeras\n",
    "\n",
    "from tensorflow.keras import backend as k\n",
    "from tensorflow.keras.models import Sequential\n",
    "from sklearn.model_selection import cross_val_score\n",
    "from scikeras.wrappers import KerasClassifier\n",
    "from sklearn.model_selection import GridSearchCV"
   ]
  },
  {
   "cell_type": "code",
   "execution_count": 3,
   "id": "5209106a",
   "metadata": {},
   "outputs": [],
   "source": [
    "from src.meu_script import criar_rede"
   ]
  },
  {
   "cell_type": "code",
   "execution_count": 4,
   "id": "12b9b749",
   "metadata": {},
   "outputs": [],
   "source": [
    "optimizer = tf.keras.optimizers.Adam(learning_rate = 0.001)\n",
    "loss = 'binary_crossentropy'\n",
    "kernel_initializer =  'random_uniform'\n",
    "activation = 'relu'\n",
    "neurons = 16"
   ]
  },
  {
   "cell_type": "code",
   "execution_count": 6,
   "id": "d79736c8",
   "metadata": {},
   "outputs": [],
   "source": [
    "rede_neural = criar_rede(optimizer, loss, kernel_initializer, activation, neurons)"
   ]
  },
  {
   "cell_type": "code",
   "execution_count": 7,
   "id": "490757a9",
   "metadata": {},
   "outputs": [],
   "source": [
    "X = pd.read_csv('C:/Users/Luan/Desktop/VScode Projetos/Treino Rede Neural/data/raw/entradas_breast.csv')\n",
    "y = pd.read_csv('C:/Users/Luan/Desktop/VScode Projetos/Treino Rede Neural/data/raw/saidas_breast.csv')"
   ]
  },
  {
   "cell_type": "code",
   "execution_count": 8,
   "id": "bbec7152",
   "metadata": {},
   "outputs": [
    {
     "data": {
      "text/plain": [
       "<keras.src.callbacks.history.History at 0x221a457b0d0>"
      ]
     },
     "execution_count": 8,
     "metadata": {},
     "output_type": "execute_result"
    }
   ],
   "source": [
    "rede_neural.fit(X, y, 100, 10, verbose=0)"
   ]
  },
  {
   "cell_type": "code",
   "execution_count": 9,
   "id": "363920eb",
   "metadata": {},
   "outputs": [],
   "source": [
    "rede_neural.save('classificador_breast.keras')"
   ]
  },
  {
   "cell_type": "code",
   "execution_count": null,
   "id": "f84363f0",
   "metadata": {},
   "outputs": [],
   "source": []
  }
 ],
 "metadata": {
  "kernelspec": {
   "display_name": "venv",
   "language": "python",
   "name": "python3"
  },
  "language_info": {
   "codemirror_mode": {
    "name": "ipython",
    "version": 3
   },
   "file_extension": ".py",
   "mimetype": "text/x-python",
   "name": "python",
   "nbconvert_exporter": "python",
   "pygments_lexer": "ipython3",
   "version": "3.11.8"
  }
 },
 "nbformat": 4,
 "nbformat_minor": 5
}
