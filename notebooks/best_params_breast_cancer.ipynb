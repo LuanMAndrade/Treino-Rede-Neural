{
 "cells": [
  {
   "cell_type": "code",
   "execution_count": 1,
   "id": "a9048cd1",
   "metadata": {},
   "outputs": [],
   "source": [
    "import sys\n",
    "import os\n",
    "sys.path.append(os.path.abspath(os.path.join('..')))"
   ]
  },
  {
   "cell_type": "code",
   "execution_count": 2,
   "id": "e4029e75",
   "metadata": {},
   "outputs": [],
   "source": [
    "import pandas as pd\n",
    "import tensorflow as tf\n",
    "import sklearn\n",
    "import scikeras\n",
    "\n",
    "from tensorflow.keras import backend as k\n",
    "from tensorflow.keras.models import Sequential\n",
    "from sklearn.model_selection import cross_val_score\n",
    "from scikeras.wrappers import KerasClassifier\n",
    "from sklearn.model_selection import GridSearchCV\n"
   ]
  },
  {
   "cell_type": "code",
   "execution_count": 3,
   "id": "08198fac",
   "metadata": {},
   "outputs": [],
   "source": [
    "from src.meu_script import criar_rede"
   ]
  },
  {
   "cell_type": "code",
   "execution_count": 4,
   "id": "172c13a0",
   "metadata": {},
   "outputs": [],
   "source": [
    "rede_neural = KerasClassifier(model = criar_rede, verbose=0)"
   ]
  },
  {
   "cell_type": "code",
   "execution_count": 5,
   "id": "96fbfeaa",
   "metadata": {},
   "outputs": [],
   "source": [
    "parametros = {\n",
    "    'batch_size': [10, 30],\n",
    "    'epochs': [50, 100],\n",
    "    'model__optimizer': ['adam', 'sgd'],\n",
    "    'model__loss': ['binary_crossentropy', 'hinge'],\n",
    "    'model__kernel_initializer': ['random_uniform', 'normal'],\n",
    "    'model__activation': ['relu', 'tanh'],\n",
    "    'model__neurons': [16, 8]\n",
    "}"
   ]
  },
  {
   "cell_type": "code",
   "execution_count": 6,
   "id": "7d5b78ae",
   "metadata": {},
   "outputs": [],
   "source": [
    "grid_search = GridSearchCV(estimator = rede_neural, param_grid = parametros, scoring = 'accuracy', cv = 5,n_jobs=-1)"
   ]
  },
  {
   "cell_type": "code",
   "execution_count": 7,
   "id": "4ce1e3d5",
   "metadata": {},
   "outputs": [],
   "source": [
    "X = pd.read_csv('C:/Users/Luan/Desktop/VScode Projetos/Treino Rede Neural/data/raw/entradas_breast.csv')\n",
    "y = pd.read_csv('C:/Users/Luan/Desktop/VScode Projetos/Treino Rede Neural/data/raw/saidas_breast.csv')"
   ]
  },
  {
   "cell_type": "code",
   "execution_count": 8,
   "id": "d483e73b",
   "metadata": {},
   "outputs": [
    {
     "name": "stderr",
     "output_type": "stream",
     "text": [
      "c:\\Users\\Luan\\Desktop\\VScode Projetos\\Treino Rede Neural\\venv\\Lib\\site-packages\\joblib\\externals\\loky\\process_executor.py:752: UserWarning: A worker stopped while some jobs were given to the executor. This can be caused by a too short worker timeout or by a memory leak.\n",
      "  warnings.warn(\n",
      "c:\\Users\\Luan\\Desktop\\VScode Projetos\\Treino Rede Neural\\venv\\Lib\\site-packages\\numpy\\ma\\core.py:2881: RuntimeWarning: invalid value encountered in cast\n",
      "  _data = np.array(data, dtype=dtype, copy=copy,\n"
     ]
    },
    {
     "name": "stdout",
     "output_type": "stream",
     "text": [
      "WARNING:tensorflow:From c:\\Users\\Luan\\Desktop\\VScode Projetos\\Treino Rede Neural\\venv\\Lib\\site-packages\\keras\\src\\backend\\common\\global_state.py:82: The name tf.reset_default_graph is deprecated. Please use tf.compat.v1.reset_default_graph instead.\n",
      "\n"
     ]
    }
   ],
   "source": [
    "grid_search = grid_search.fit(X,y)"
   ]
  },
  {
   "cell_type": "code",
   "execution_count": 9,
   "id": "c156c053",
   "metadata": {},
   "outputs": [],
   "source": [
    "melhores_parametros = grid_search.best_params_"
   ]
  },
  {
   "cell_type": "code",
   "execution_count": 10,
   "id": "0d2eae27",
   "metadata": {},
   "outputs": [
    {
     "data": {
      "text/plain": [
       "{'batch_size': 10,\n",
       " 'epochs': 100,\n",
       " 'model__activation': 'relu',\n",
       " 'model__kernel_initializer': 'random_uniform',\n",
       " 'model__loss': 'binary_crossentropy',\n",
       " 'model__neurons': 16,\n",
       " 'model__optimizer': 'adam'}"
      ]
     },
     "execution_count": 10,
     "metadata": {},
     "output_type": "execute_result"
    }
   ],
   "source": [
    "melhores_parametros"
   ]
  },
  {
   "cell_type": "code",
   "execution_count": null,
   "id": "f9cb43b9",
   "metadata": {},
   "outputs": [],
   "source": []
  }
 ],
 "metadata": {
  "kernelspec": {
   "display_name": "venv",
   "language": "python",
   "name": "python3"
  },
  "language_info": {
   "codemirror_mode": {
    "name": "ipython",
    "version": 3
   },
   "file_extension": ".py",
   "mimetype": "text/x-python",
   "name": "python",
   "nbconvert_exporter": "python",
   "pygments_lexer": "ipython3",
   "version": "3.11.8"
  }
 },
 "nbformat": 4,
 "nbformat_minor": 5
}
